{
 "cells": [
  {
   "cell_type": "code",
   "execution_count": null,
   "metadata": {
    "colab": {
     "base_uri": "https://localhost:8080/"
    },
    "id": "ymsbe8z6HHO9",
    "outputId": "2e69ae72-3ba6-47fd-8030-7383127c5c51"
   },
   "outputs": [
    {
     "name": "stdout",
     "output_type": "stream",
     "text": [
      "Mounted at /content/gdrive\n"
     ]
    }
   ],
   "source": [
    "from google.colab import drive\n",
    "drive.mount('/content/gdrive')"
   ]
  },
  {
   "cell_type": "code",
   "execution_count": null,
   "metadata": {
    "id": "VC3_k_bmHYXI"
   },
   "outputs": [],
   "source": [
    "import sys, os\n",
    "import pandas as pd\n",
    "import numpy as np\n",
    "\n",
    "from keras.models import Sequential\n",
    "from keras.layers import Dense, Dropout, Activation, Flatten\n",
    "from keras.layers import Conv2D, MaxPooling2D, BatchNormalization,AveragePooling2D\n",
    "from keras.losses import categorical_crossentropy\n",
    "from keras.optimizers import Adam\n",
    "from keras.regularizers import l2\n",
    "from keras.utils import np_utils\n",
    "import matplotlib.pyplot as plt"
   ]
  },
  {
   "cell_type": "code",
   "execution_count": null,
   "metadata": {
    "id": "inlk2IGnHfCJ"
   },
   "outputs": [],
   "source": [
    "df = pd.read_csv('gdrive/My Drive/Halima/Year 3/AI/ER Project/fer2013/fer2013.csv')"
   ]
  },
  {
   "cell_type": "code",
   "execution_count": null,
   "metadata": {
    "colab": {
     "base_uri": "https://localhost:8080/"
    },
    "id": "dBHHNpEHHtrz",
    "outputId": "cef4d181-dcdb-4224-b6d3-e9e8debf71ac"
   },
   "outputs": [
    {
     "name": "stdout",
     "output_type": "stream",
     "text": [
      "<class 'pandas.core.frame.DataFrame'>\n",
      "RangeIndex: 35887 entries, 0 to 35886\n",
      "Data columns (total 3 columns):\n",
      " #   Column   Non-Null Count  Dtype \n",
      "---  ------   --------------  ----- \n",
      " 0   emotion  35887 non-null  int64 \n",
      " 1   pixels   35887 non-null  object\n",
      " 2   Usage    35887 non-null  object\n",
      "dtypes: int64(1), object(2)\n",
      "memory usage: 841.2+ KB\n",
      "None\n"
     ]
    }
   ],
   "source": [
    "print(df.info())"
   ]
  },
  {
   "cell_type": "code",
   "execution_count": null,
   "metadata": {
    "id": "8uJlzA3LIAEz"
   },
   "outputs": [],
   "source": [
    "X_train,train_y,X_test,test_y=[],[],[],[]\n",
    "\n",
    "for index, row in df.iterrows():\n",
    "    val=row['pixels'].split(\" \")\n",
    "    try:\n",
    "        if 'Training' in row['Usage']:\n",
    "           X_train.append(np.array(val,'float32'))\n",
    "           train_y.append(row['emotion'])\n",
    "        elif 'PublicTest' in row['Usage']:\n",
    "           X_test.append(np.array(val,'float32'))\n",
    "           test_y.append(row['emotion'])\n",
    "    except:\n",
    "        print(f\"error occured at index :{index} and row:{row}\")"
   ]
  },
  {
   "cell_type": "code",
   "execution_count": null,
   "metadata": {
    "colab": {
     "base_uri": "https://localhost:8080/"
    },
    "id": "uQzKTxoi_T_a",
    "outputId": "52fc5d9a-d3fb-43b7-9881-19219ddb3282"
   },
   "outputs": [
    {
     "data": {
      "text/plain": [
       "3589"
      ]
     },
     "execution_count": 7,
     "metadata": {
      "tags": []
     },
     "output_type": "execute_result"
    }
   ],
   "source": [
    "len(X_test)"
   ]
  },
  {
   "cell_type": "code",
   "execution_count": null,
   "metadata": {
    "id": "s3AQHUjZKnzX"
   },
   "outputs": [],
   "source": [
    "num_features = 64\n",
    "num_labels = 7\n",
    "batch_size = 64\n",
    "epochs = 30\n",
    "width, height = 48, 48"
   ]
  },
  {
   "cell_type": "code",
   "execution_count": null,
   "metadata": {
    "id": "hz56y_6MMhOy"
   },
   "outputs": [],
   "source": [
    "X_train = np.array(X_train,'float32')\n",
    "train_y = np.array(train_y,'float32')\n",
    "X_test = np.array(X_test,'float32')\n",
    "test_y = np.array(test_y,'float32')"
   ]
  },
  {
   "cell_type": "code",
   "execution_count": null,
   "metadata": {
    "id": "dlrPlwMJMj1b"
   },
   "outputs": [],
   "source": [
    "train_y=np_utils.to_categorical(train_y, num_classes=num_labels)\n",
    "test_y=np_utils.to_categorical(test_y, num_classes=num_labels)"
   ]
  },
  {
   "cell_type": "code",
   "execution_count": null,
   "metadata": {
    "id": "htbPFNXpMz-d"
   },
   "outputs": [],
   "source": [
    "#cannot produce\n",
    "#normalizing data between oand 1\n",
    "X_train -= np.mean(X_train, axis=0)\n",
    "X_train /= np.std(X_train, axis=0)\n",
    "\n",
    "X_test -= np.mean(X_test, axis=0)\n",
    "X_test /= np.std(X_test, axis=0)\n",
    "\n",
    "X_train = X_train.reshape(X_train.shape[0], 48, 48, 1)\n",
    "\n",
    "X_test = X_test.reshape(X_test.shape[0], 48, 48, 1)"
   ]
  },
  {
   "cell_type": "code",
   "execution_count": null,
   "metadata": {
    "colab": {
     "base_uri": "https://localhost:8080/"
    },
    "id": "9NpOy_NlNm7I",
    "outputId": "d0e2e212-a650-41a9-e7e6-c7cbda10a345"
   },
   "outputs": [
    {
     "name": "stdout",
     "output_type": "stream",
     "text": [
      "Epoch 1/25\n",
      "449/449 [==============================] - 10s 8ms/step - loss: 1.7707 - accuracy: 0.2901 - val_loss: 1.5419 - val_accuracy: 0.4291\n",
      "Epoch 2/25\n",
      "449/449 [==============================] - 3s 7ms/step - loss: 1.4789 - accuracy: 0.4301 - val_loss: 1.3600 - val_accuracy: 0.4876\n",
      "Epoch 3/25\n",
      "449/449 [==============================] - 3s 7ms/step - loss: 1.3498 - accuracy: 0.4861 - val_loss: 1.2754 - val_accuracy: 0.5163\n",
      "Epoch 4/25\n",
      "449/449 [==============================] - 3s 7ms/step - loss: 1.2841 - accuracy: 0.5076 - val_loss: 1.2379 - val_accuracy: 0.5216\n",
      "Epoch 5/25\n",
      "449/449 [==============================] - 3s 7ms/step - loss: 1.2138 - accuracy: 0.5341 - val_loss: 1.1761 - val_accuracy: 0.5542\n",
      "Epoch 6/25\n",
      "449/449 [==============================] - 3s 7ms/step - loss: 1.1521 - accuracy: 0.5604 - val_loss: 1.1514 - val_accuracy: 0.5628\n",
      "Epoch 7/25\n",
      "449/449 [==============================] - 3s 7ms/step - loss: 1.1003 - accuracy: 0.5848 - val_loss: 1.1458 - val_accuracy: 0.5656\n",
      "Epoch 8/25\n",
      "449/449 [==============================] - 3s 7ms/step - loss: 1.0719 - accuracy: 0.5961 - val_loss: 1.1273 - val_accuracy: 0.5770\n",
      "Epoch 9/25\n",
      "449/449 [==============================] - 3s 7ms/step - loss: 1.0066 - accuracy: 0.6230 - val_loss: 1.1200 - val_accuracy: 0.5795\n",
      "Epoch 10/25\n",
      "449/449 [==============================] - 3s 7ms/step - loss: 0.9745 - accuracy: 0.6347 - val_loss: 1.1220 - val_accuracy: 0.5915\n",
      "Epoch 11/25\n",
      "449/449 [==============================] - 3s 7ms/step - loss: 0.9150 - accuracy: 0.6593 - val_loss: 1.1372 - val_accuracy: 0.5843\n",
      "Epoch 12/25\n",
      "449/449 [==============================] - 3s 7ms/step - loss: 0.8621 - accuracy: 0.6766 - val_loss: 1.1290 - val_accuracy: 0.5929\n",
      "Epoch 13/25\n",
      "449/449 [==============================] - 3s 7ms/step - loss: 0.8112 - accuracy: 0.7004 - val_loss: 1.1590 - val_accuracy: 0.5899\n",
      "Epoch 14/25\n",
      "449/449 [==============================] - 3s 7ms/step - loss: 0.7531 - accuracy: 0.7219 - val_loss: 1.1748 - val_accuracy: 0.5943\n",
      "Epoch 15/25\n",
      "449/449 [==============================] - 3s 7ms/step - loss: 0.7194 - accuracy: 0.7332 - val_loss: 1.1708 - val_accuracy: 0.5982\n",
      "Epoch 16/25\n",
      "449/449 [==============================] - 3s 7ms/step - loss: 0.6845 - accuracy: 0.7485 - val_loss: 1.2095 - val_accuracy: 0.6052\n",
      "Epoch 17/25\n",
      "449/449 [==============================] - 3s 7ms/step - loss: 0.6384 - accuracy: 0.7640 - val_loss: 1.2607 - val_accuracy: 0.5943\n",
      "Epoch 18/25\n",
      "449/449 [==============================] - 3s 7ms/step - loss: 0.6020 - accuracy: 0.7799 - val_loss: 1.3177 - val_accuracy: 0.5988\n",
      "Epoch 19/25\n",
      "449/449 [==============================] - 3s 7ms/step - loss: 0.5739 - accuracy: 0.7903 - val_loss: 1.2902 - val_accuracy: 0.5991\n",
      "Epoch 20/25\n",
      "449/449 [==============================] - 3s 7ms/step - loss: 0.5499 - accuracy: 0.7999 - val_loss: 1.3670 - val_accuracy: 0.5932\n",
      "Epoch 21/25\n",
      "449/449 [==============================] - 3s 7ms/step - loss: 0.5211 - accuracy: 0.8126 - val_loss: 1.3660 - val_accuracy: 0.5988\n",
      "Epoch 22/25\n",
      "449/449 [==============================] - 3s 7ms/step - loss: 0.5017 - accuracy: 0.8206 - val_loss: 1.4629 - val_accuracy: 0.5901\n",
      "Epoch 23/25\n",
      "449/449 [==============================] - 3s 7ms/step - loss: 0.4711 - accuracy: 0.8275 - val_loss: 1.4643 - val_accuracy: 0.5946\n",
      "Epoch 24/25\n",
      "449/449 [==============================] - 3s 7ms/step - loss: 0.4404 - accuracy: 0.8389 - val_loss: 1.4882 - val_accuracy: 0.5960\n",
      "Epoch 25/25\n",
      "449/449 [==============================] - 3s 7ms/step - loss: 0.4330 - accuracy: 0.8425 - val_loss: 1.5522 - val_accuracy: 0.5960\n"
     ]
    }
   ],
   "source": [
    "# print(f\"shape:{X_train.shape}\")\n",
    "##designing the cnn\n",
    "#1st convolution layer\n",
    "\n",
    "epochs = 25\n",
    "\n",
    "model = Sequential()\n",
    "\n",
    "model.add(Conv2D(64, kernel_size=(3, 3), activation='relu', input_shape=(X_train.shape[1:])))\n",
    "#model.add(Conv2D(64,kernel_size= (3, 3), activation='relu'))\n",
    "#model.add(BatchNormalization())\n",
    "model.add(MaxPooling2D(pool_size=(2,2), strides=(2, 2)))\n",
    "model.add(Dropout(0.5))\n",
    "\n",
    "#2nd convolution layer\n",
    "model.add(Conv2D(64, (3, 3), activation='relu'))\n",
    "#model.add(Conv2D(64, (3, 3), activation='relu'))\n",
    "#model.add(BatchNormalization())\n",
    "model.add(MaxPooling2D(pool_size=(2,2), strides=(2, 2)))\n",
    "model.add(Dropout(0.5))\n",
    "\n",
    "#3rd convolution layer\n",
    "model.add(Conv2D(128, (3, 3), activation='relu'))\n",
    "#model.add(Conv2D(128, (3, 3), activation='relu'))\n",
    "#model.add(BatchNormalization())\n",
    "model.add(MaxPooling2D(pool_size=(2,2), strides=(2, 2)))\n",
    "\n",
    "model.add(Flatten())\n",
    "\n",
    "#fully connected neural networks$\n",
    "#model.add(Dense(1024, activation='relu'))\n",
    "#model.add(Dropout(0.2))\n",
    "model.add(Dense(1024, activation='relu'))\n",
    "model.add(Dropout(0.2))\n",
    "\n",
    "model.add(Dense(num_labels, activation='softmax'))\n",
    "\n",
    "# model.summary()\n",
    "\n",
    "#Compliling the model\n",
    "model.compile(loss=categorical_crossentropy,\n",
    "              optimizer=Adam(),\n",
    "              metrics=['accuracy'])\n",
    "\n",
    "#Training the model\n",
    "history = model.fit(X_train, train_y,\n",
    "          batch_size=batch_size,\n",
    "          epochs=epochs,\n",
    "          verbose=1,\n",
    "          validation_data=(X_test, test_y),\n",
    "          shuffle=True)\n",
    "\n",
    "\n",
    "#Saving the  model to  use it later on\n",
    "fer_json = model.to_json()\n",
    "with open(\"gdrive/My Drive/model.json\", \"w\") as json_file:\n",
    "    json_file.write(fer_json)\n",
    "model.save_weights(\"gdrive/My Drive/model.h5\")"
   ]
  },
  {
   "cell_type": "code",
   "execution_count": null,
   "metadata": {
    "colab": {
     "base_uri": "https://localhost:8080/",
     "height": 545
    },
    "id": "reOIMExkAjIc",
    "outputId": "d3b09155-fdf0-49ae-d8a9-12d8f619111e"
   },
   "outputs": [
    {
     "data": {
      "image/png": "[encoded data removed]",
      "text/plain": [
       "<Figure size 432x288 with 1 Axes>"
      ]
     },
     "metadata": {
      "needs_background": "light",
      "tags": []
     },
     "output_type": "display_data"
    },
    {
     "data": {
      "image/png": "[encoded data removed]",
      "text/plain": [
       "<Figure size 432x288 with 1 Axes>"
      ]
     },
     "metadata": {
      "needs_background": "light",
      "tags": []
     },
     "output_type": "display_data"
    }
   ],
   "source": [
    "acc = history.history['accuracy']\n",
    "val_acc = history.history['val_accuracy']\n",
    "loss = history.history['loss']\n",
    "val_loss = history.history['val_loss']\n",
    "\n",
    "epochs = range(1, len(acc) + 1)\n",
    "\n",
    "plt.plot(epochs, acc, 'bo', label='Training acc')\n",
    "plt.plot(epochs, val_acc, 'b', label='Validation acc')\n",
    "plt.title('Training and validation accuracy')\n",
    "plt.legend()\n",
    "plt.savefig('gdrive/My Drive/reduce_layers_1.png', dpi=100)\n",
    "plt.figure()\n",
    "\n",
    "plt.plot(epochs, loss, 'bo', label='Training loss')\n",
    "plt.plot(epochs, val_loss, 'b', label='Validation loss')\n",
    "plt.title('Training and validation loss')\n",
    "plt.legend()\n",
    "plt.savefig('gdrive/My Drive/reduce_layers_2.png', dpi=100)\n",
    "plt.show()"
   ]
  }
 ],
 "metadata": {
  "accelerator": "GPU",
  "colab": {
   "collapsed_sections": [],
   "name": "Train_Model",
   "provenance": []
  },
  "kernelspec": {
   "display_name": "Python 3",
   "language": "python",
   "name": "python3"
  },
  "language_info": {
   "codemirror_mode": {
    "name": "ipython",
    "version": 3
   },
   "file_extension": ".py",
   "mimetype": "text/x-python",
   "name": "python",
   "nbconvert_exporter": "python",
   "pygments_lexer": "ipython3",
   "version": "3.8.3"
  }
 },
 "nbformat": 4,
 "nbformat_minor": 1
}
