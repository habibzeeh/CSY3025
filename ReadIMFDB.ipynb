{
 "cells": [
  {
   "cell_type": "code",
   "execution_count": null,
   "metadata": {
    "id": "nEBbtFQDowvt"
   },
   "outputs": [],
   "source": [
    "import sys, os, glob\n",
    "import pandas as pd\n",
    "import numpy as np\n",
    "import pathlib\n",
    "import csv \n",
    "from PIL import Image\n",
    "from resizeimage import resizeimage\n",
    "import random"
   ]
  },
  {
   "cell_type": "code",
   "execution_count": null,
   "metadata": {
    "id": "whZ3ijCKbUiY"
   },
   "outputs": [],
   "source": [
    "rootPath = '/IMFDB'\n",
    "IMFDB_final_path = rootPath + 'IMFDB_final'\n",
    "IMFDB_CSV_path = rootPath + 'IMFDB_CSV'\n",
    "IMFDB_final = pathlib.Path(IMFDB_final_path)"
   ]
  },
  {
   "cell_type": "code",
   "execution_count": null,
   "metadata": {
    "id": "-kgZ-vlbe-nK"
   },
   "outputs": [],
   "source": [
    "emotionsNumber = { \"ANGER\":0 , \"DISGUST\":1 , \"FEAR\":2 , \"HAPPINESS\":3 , \"SADNESS\":4 , \"SURPRISE\":5 , \"NEUTRAL\":6  }\n",
    "def getEmotionNumber(emotion):\n",
    "  try:z\n",
    "    return emotionsNumber[emotion]\n",
    "  except:\n",
    "    return -1"
   ]
  },
  {
   "cell_type": "code",
   "execution_count": null,
   "metadata": {
    "id": "IqqgPWRb636-"
   },
   "outputs": [],
   "source": [
    "def fileExits(path):\n",
    "  my_file = pathlib.Path(path)\n",
    "  if my_file.is_file():\n",
    "    return True\n",
    "  else:\n",
    "    return False"
   ]
  },
  {
   "cell_type": "code",
   "execution_count": null,
   "metadata": {
    "id": "xVnJUI557FNF"
   },
   "outputs": [],
   "source": [
    "def isDir(path):\n",
    "  my_file = pathlib.Path(path)\n",
    "  if my_file.is_dir():\n",
    "    return True\n",
    "  else:\n",
    "    return False"
   ]
  },
  {
   "cell_type": "code",
   "execution_count": null,
   "metadata": {
    "id": "7UPqQ4weFHED"
   },
   "outputs": [],
   "source": [
    "def getFilePath(moviePath,actorName,movieName):\n",
    "  try:\n",
    "    os.chdir(moviePath)\n",
    "    for file in glob.glob(\"*.txt\"):\n",
    "      return file\n",
    "  except:\n",
    "    print(\"Text File Not Found -- Ignored\")\n",
    "    return False"
   ]
  },
  {
   "cell_type": "code",
   "execution_count": null,
   "metadata": {
    "id": "8snjVO8sbje4"
   },
   "outputs": [],
   "source": [
    "def checkCSVCreated(ActorName):\n",
    "  csvPath = IMFDB_CSV_path + '/' + ActorName + \".csv\"\n",
    "  return fileExits(csvPath)"
   ]
  },
  {
   "cell_type": "code",
   "execution_count": null,
   "metadata": {
    "id": "JriO71KKc4ZC"
   },
   "outputs": [],
   "source": [
    "def getEmotionsFromFile(path):\n",
    "  file = open(filePath, 'r') \n",
    "  Lines = file.readlines()\n",
    "  emotions = {}\n",
    "  for line in Lines:\n",
    "    keys = line.split(\"\\t\")\n",
    "    if(len(keys)>11):\n",
    "      emotions[keys[2]] = keys[11]\n",
    "  return emotions"
   ]
  },
  {
   "cell_type": "code",
   "execution_count": null,
   "metadata": {
    "id": "E874Hr-Z0sY1"
   },
   "outputs": [],
   "source": [
    "def getResizeImage(path):\n",
    "  try:\n",
    "    fd_img = open(path, 'rb')\n",
    "    img = Image.open(fd_img).convert('LA')\n",
    "    img = resizeimage.resize_cover(img, [48, 48])\n",
    "    fd_img.close()\n",
    "    return img\n",
    "  except:\n",
    "    print(\"Image Very Small -- Ignored\")\n",
    "    return False"
   ]
  },
  {
   "cell_type": "code",
   "execution_count": null,
   "metadata": {
    "id": "TvAtUliiymin"
   },
   "outputs": [],
   "source": [
    "def getRandomTag():\n",
    "  if random.uniform(0, 1) < 0.3 :\n",
    "    return \"PublicTest\"\n",
    "  else :\n",
    "    return \"Training\""
   ]
  },
  {
   "cell_type": "code",
   "execution_count": null,
   "metadata": {
    "id": "QA5M-4cRQa5s"
   },
   "outputs": [],
   "source": [
    "def createCSV(dataArray,actorName):\n",
    "  if len(dataArray) == 0:\n",
    "    print(\"Data Missing for **\" + actorName + \"** -- Ignored\")\n",
    "    return\n",
    "  csvPath = IMFDB_CSV_path + '/' + actorName + \".csv\"\n",
    "  data = np.array(dataArray)\n",
    "  dataset = pd.DataFrame({'emotion':data[:,0] , 'pixels': data[:, 1], 'Usage': data[:, 2]})\n",
    "  dataset.to_csv(csvPath, index = False)"
   ]
  },
  {
   "cell_type": "code",
   "execution_count": null,
   "metadata": {
    "id": "s9HcNzG0qSkG"
   },
   "outputs": [],
   "source": [
    "for actor in IMFDB_final.glob('*'):\n",
    "  dataArray = []\n",
    "  if checkCSVCreated(actor.name): continue\n",
    "  print(\"start -- \" + actor.name)\n",
    "  for movie in actor.glob('*'):\n",
    "    moviePath = IMFDB_final_path + \"/\" + actor.name + \"/\" + movie.name\n",
    "    if not isDir(moviePath): continue\n",
    "    imagesPath = moviePath + \"/images/\"\n",
    "    filePath = getFilePath(moviePath,actor.name,movie.name)\n",
    "    if not filePath: continue\n",
    "    emotions = getEmotionsFromFile(filePath)\n",
    "    for key in emotions:\n",
    "      emotionNo = getEmotionNumber(emotions[key])\n",
    "      if emotionNo == -1: continue\n",
    "      imagePath = imagesPath + key\n",
    "      print(imagePath)\n",
    "      img = getResizeImage(imagePath)\n",
    "      if not img: continue\n",
    "      imgArrayFull = np.asarray(img).flatten()\n",
    "      imgArray = imgArrayFull[::2]\n",
    "      pixel_list = imgArray.tolist()\n",
    "      pixel_str_list = map(str, pixel_list)\n",
    "      img_str = ' '.join(pixel_str_list)\n",
    "      data = []\n",
    "      data.append(emotionNo)\n",
    "      data.append(img_str)\n",
    "      data.append(\"Training\")\n",
    "      dataArray.append(data)\n",
    "  createCSV(dataArray,actor.name)"
   ]
  },
  {
   "cell_type": "code",
   "execution_count": null,
   "metadata": {
    "id": "7IXFoeFa8c1Y"
   },
   "outputs": [],
   "source": [
    "os.chdir(IMFDB_CSV_path)\n",
    "frames = []\n",
    "for file in glob.glob(\"*.csv\"):\n",
    "  filePath = IMFDB_CSV_path + \"/\" + file\n",
    "  df =  pd.read_csv(filePath)\n",
    "  frames.append(df)\n",
    "df = pd.concat(frames)"
   ]
  },
  {
   "cell_type": "code",
   "execution_count": null,
   "metadata": {
    "id": "FJosXh1c93WB"
   },
   "outputs": [],
   "source": [
    "df.info()"
   ]
  },
  {
   "cell_type": "code",
   "execution_count": null,
   "metadata": {
    "id": "Ze1KmVnc-LC_"
   },
   "outputs": [],
   "source": [
    "allFilePath = IMFDB_CSV_path + \"/IMFDB.csv\" \n",
    "df.to_csv(allFilePath, index = False)"
   ]
  },
  {
   "cell_type": "code",
   "execution_count": null,
   "metadata": {
    "id": "VmWwZobYkV4P"
   },
   "outputs": [],
   "source": [
    "data = np.array(dataArray)\n",
    "dataset = pd.DataFrame({'emotion':data[:,0] , 'pixels': data[:, 1], 'Usage': data[:, 2]})\n",
    "dataset.to_csv(r'IMFDB/IMFDB.csv', index = False)\n",
    "#end"
   ]
  }
 ],
 "metadata": {
  "colab": {
   "collapsed_sections": [],
   "name": "ReadIMFDB.ipynb",
   "provenance": []
  },
  "kernelspec": {
   "display_name": "Python 3",
   "language": "python",
   "name": "python3"
  },
  "language_info": {
   "codemirror_mode": {
    "name": "ipython",
    "version": 3
   },
   "file_extension": ".py",
   "mimetype": "text/x-python",
   "name": "python",
   "nbconvert_exporter": "python",
   "pygments_lexer": "ipython3",
   "version": "3.8.3"
  }
 },
 "nbformat": 4,
 "nbformat_minor": 1
}
