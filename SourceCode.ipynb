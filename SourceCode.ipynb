{
 "cells": [
  {
   "cell_type": "code",
   "execution_count": null,
   "metadata": {
    "colab": {
     "base_uri": "https://localhost:8080/"
    },
    "id": "KhHGJAmrvRiW",
    "outputId": "7b8db6b3-971d-4ac6-f660-4e3095ea5e2b"
   },
   "outputs": [
    {
     "name": "stdout",
     "output_type": "stream",
     "text": [
      "Mounted at /content/gdrive\n"
     ]
    }
   ],
   "source": [
    "#coonect the notebook to the google drive\n",
    "from google.colab import drive\n",
    "drive.mount('/content/gdrive')"
   ]
  },
  {
   "cell_type": "code",
   "execution_count": null,
   "metadata": {
    "id": "CqLZ81C_vkyV"
   },
   "outputs": [],
   "source": [
    "import sys, os\n",
    "import pandas as pd\n",
    "import numpy as np\n",
    "\n",
    "from keras.models import Sequential\n",
    "from keras.layers import Dense, Dropout, Activation, Flatten\n",
    "from keras.layers import Conv2D, MaxPooling2D, BatchNormalization,AveragePooling2D\n",
    "from keras.losses import categorical_crossentropy\n",
    "from keras.optimizers import Adam\n",
    "from keras.regularizers import l2\n",
    "from keras.utils import np_utils\n",
    "import matplotlib.pyplot as plt"
   ]
  },
  {
   "cell_type": "code",
   "execution_count": null,
   "metadata": {
    "id": "McpgUBtBvu6H"
   },
   "outputs": [],
   "source": [
    "df = pd.read_csv('gdrive/My Drive/Halima/Year 3/AI/ER Project/fer2013/fer2013.csv')"
   ]
  },
  {
   "cell_type": "code",
   "execution_count": null,
   "metadata": {
    "colab": {
     "base_uri": "https://localhost:8080/"
    },
    "id": "t69RBfbyvwlV",
    "outputId": "7ecc210e-a26f-4612-8cef-2ed93c3f2aa8"
   },
   "outputs": [
    {
     "name": "stdout",
     "output_type": "stream",
     "text": [
      "<class 'pandas.core.frame.DataFrame'>\n",
      "RangeIndex: 35887 entries, 0 to 35886\n",
      "Data columns (total 3 columns):\n",
      " #   Column   Non-Null Count  Dtype \n",
      "---  ------   --------------  ----- \n",
      " 0   emotion  35887 non-null  int64 \n",
      " 1   pixels   35887 non-null  object\n",
      " 2   Usage    35887 non-null  object\n",
      "dtypes: int64(1), object(2)\n",
      "memory usage: 841.2+ KB\n",
      "None\n"
     ]
    }
   ],
   "source": [
    "print(df.info())"
   ]
  },
  {
   "cell_type": "code",
   "execution_count": null,
   "metadata": {
    "id": "LFAxGBv3vyF1"
   },
   "outputs": [],
   "source": [
    "df1 = pd.read_csv('gdrive/My Drive/Halima/IMFDB.csv')"
   ]
  },
  {
   "cell_type": "code",
   "execution_count": null,
   "metadata": {
    "colab": {
     "base_uri": "https://localhost:8080/"
    },
    "id": "lhE1-7zBv9V6",
    "outputId": "ec173ef0-6d97-42ac-bd03-91c8d8534d5c"
   },
   "outputs": [
    {
     "name": "stdout",
     "output_type": "stream",
     "text": [
      "<class 'pandas.core.frame.DataFrame'>\n",
      "RangeIndex: 24596 entries, 0 to 24595\n",
      "Data columns (total 3 columns):\n",
      " #   Column   Non-Null Count  Dtype \n",
      "---  ------   --------------  ----- \n",
      " 0   emotion  24596 non-null  int64 \n",
      " 1   pixels   24596 non-null  object\n",
      " 2   Usage    24596 non-null  object\n",
      "dtypes: int64(1), object(2)\n",
      "memory usage: 576.6+ KB\n",
      "None\n"
     ]
    }
   ],
   "source": [
    "print(df1.info())"
   ]
  },
  {
   "cell_type": "code",
   "execution_count": null,
   "metadata": {
    "colab": {
     "base_uri": "https://localhost:8080/"
    },
    "id": "LYAtvE5pwRk4",
    "outputId": "ca5b461d-d0b8-452a-ea33-c2063be3fb7b"
   },
   "outputs": [
    {
     "name": "stderr",
     "output_type": "stream",
     "text": [
      "/usr/local/lib/python3.6/dist-packages/ipykernel_launcher.py:3: SettingWithCopyWarning: \n",
      "A value is trying to be set on a copy of a slice from a DataFrame\n",
      "\n",
      "See the caveats in the documentation: https://pandas.pydata.org/pandas-docs/stable/user_guide/indexing.html#returning-a-view-versus-a-copy\n",
      "  This is separate from the ipykernel package so we can avoid doing imports until\n"
     ]
    }
   ],
   "source": [
    "for index, row in df1.iterrows():\n",
    "    if index % 10 == 0:\n",
    "        df1.Usage[index] = 'PublicTest'"
   ]
  },
  {
   "cell_type": "code",
   "execution_count": null,
   "metadata": {
    "id": "aRnGapuCwiSP"
   },
   "outputs": [],
   "source": [
    "frames = [df, df1] \n",
    "df2 = pd.concat(frames)"
   ]
  },
  {
   "cell_type": "code",
   "execution_count": null,
   "metadata": {
    "colab": {
     "base_uri": "https://localhost:8080/"
    },
    "id": "6LvuiAgOwqdK",
    "outputId": "9c1277b3-e375-4500-f43e-7528c70a4aaa"
   },
   "outputs": [
    {
     "name": "stdout",
     "output_type": "stream",
     "text": [
      "<class 'pandas.core.frame.DataFrame'>\n",
      "Int64Index: 60483 entries, 0 to 24595\n",
      "Data columns (total 3 columns):\n",
      " #   Column   Non-Null Count  Dtype \n",
      "---  ------   --------------  ----- \n",
      " 0   emotion  60483 non-null  int64 \n",
      " 1   pixels   60483 non-null  object\n",
      " 2   Usage    60483 non-null  object\n",
      "dtypes: int64(1), object(2)\n",
      "memory usage: 1.8+ MB\n",
      "None\n"
     ]
    }
   ],
   "source": [
    "print(df2.info())"
   ]
  },
  {
   "cell_type": "code",
   "execution_count": null,
   "metadata": {
    "id": "rIeYnQ69wsqF"
   },
   "outputs": [],
   "source": [
    "X_train,train_y,X_test,test_y=[],[],[],[]\n",
    "\n",
    "for index, row in df.iterrows():\n",
    "    val=row['pixels'].split(\" \")\n",
    "    try:\n",
    "        if 'Training' in row['Usage']:\n",
    "           X_train.append(np.array(val,'float32'))\n",
    "           train_y.append(row['emotion'])\n",
    "        elif 'PublicTest' in row['Usage']:\n",
    "           X_test.append(np.array(val,'float32'))\n",
    "           test_y.append(row['emotion'])\n",
    "    except:\n",
    "        print(f\"error occured at index :{index} and row:{row}\")"
   ]
  },
  {
   "cell_type": "code",
   "execution_count": null,
   "metadata": {
    "colab": {
     "base_uri": "https://localhost:8080/"
    },
    "id": "hQbmHfjgwv0a",
    "outputId": "5b9a8a43-f7dd-4ab2-8861-b1376ff1e0dc"
   },
   "outputs": [
    {
     "data": {
      "text/plain": [
       "3589"
      ]
     },
     "execution_count": 12,
     "metadata": {
      "tags": []
     },
     "output_type": "execute_result"
    }
   ],
   "source": [
    "len(X_test)"
   ]
  },
  {
   "cell_type": "code",
   "execution_count": null,
   "metadata": {
    "id": "CrxdXditwxOM"
   },
   "outputs": [],
   "source": [
    "width, height = 48, 48\n",
    "num_features = 64\n",
    "num_labels = 7\n",
    "batch_size = 64"
   ]
  },
  {
   "cell_type": "code",
   "execution_count": null,
   "metadata": {
    "id": "E_Bjf1Wow1e3"
   },
   "outputs": [],
   "source": [
    "X_train = np.array(X_train,'float32')\n",
    "train_y = np.array(train_y,'float32')\n",
    "X_test = np.array(X_test,'float32')\n",
    "test_y = np.array(test_y,'float32')"
   ]
  },
  {
   "cell_type": "code",
   "execution_count": null,
   "metadata": {
    "id": "UX4zTvFow3SF"
   },
   "outputs": [],
   "source": [
    "train_y=np_utils.to_categorical(train_y, num_classes=num_labels)\n",
    "test_y=np_utils.to_categorical(test_y, num_classes=num_labels)"
   ]
  },
  {
   "cell_type": "code",
   "execution_count": null,
   "metadata": {
    "id": "cb68cB4Iw4sS"
   },
   "outputs": [],
   "source": [
    "#cannot produce\n",
    "#normalizing data between oand 1\n",
    "X_train -= np.mean(X_train, axis=0)\n",
    "X_train /= np.std(X_train, axis=0)\n",
    "\n",
    "X_test -= np.mean(X_test, axis=0)\n",
    "X_test /= np.std(X_test, axis=0)\n",
    "\n",
    "X_train = X_train.reshape(X_train.shape[0], 48, 48, 1)\n",
    "\n",
    "X_test = X_test.reshape(X_test.shape[0], 48, 48, 1)"
   ]
  },
  {
   "cell_type": "code",
   "execution_count": null,
   "metadata": {
    "colab": {
     "base_uri": "https://localhost:8080/"
    },
    "id": "C28mF645w6Zh",
    "outputId": "26a0a893-2cc6-4741-a67a-acb16f4d25df"
   },
   "outputs": [
    {
     "name": "stdout",
     "output_type": "stream",
     "text": [
      "Epoch 1/25\n",
      "449/449 [==============================] - 12s 10ms/step - loss: 1.7835 - accuracy: 0.2789 - val_loss: 1.5145 - val_accuracy: 0.4327\n",
      "Epoch 2/25\n",
      "449/449 [==============================] - 4s 9ms/step - loss: 1.4959 - accuracy: 0.4211 - val_loss: 1.3663 - val_accuracy: 0.4728\n",
      "Epoch 3/25\n",
      "449/449 [==============================] - 4s 9ms/step - loss: 1.3594 - accuracy: 0.4810 - val_loss: 1.2839 - val_accuracy: 0.5196\n",
      "Epoch 4/25\n",
      "449/449 [==============================] - 4s 9ms/step - loss: 1.2827 - accuracy: 0.5071 - val_loss: 1.2151 - val_accuracy: 0.5417\n",
      "Epoch 5/25\n",
      "449/449 [==============================] - 4s 9ms/step - loss: 1.2188 - accuracy: 0.5391 - val_loss: 1.1718 - val_accuracy: 0.5528\n",
      "Epoch 6/25\n",
      "449/449 [==============================] - 4s 9ms/step - loss: 1.1620 - accuracy: 0.5598 - val_loss: 1.1629 - val_accuracy: 0.5564\n",
      "Epoch 7/25\n",
      "449/449 [==============================] - 4s 9ms/step - loss: 1.1013 - accuracy: 0.5794 - val_loss: 1.1598 - val_accuracy: 0.5587\n",
      "Epoch 8/25\n",
      "449/449 [==============================] - 4s 9ms/step - loss: 1.0604 - accuracy: 0.6017 - val_loss: 1.1309 - val_accuracy: 0.5676\n",
      "Epoch 9/25\n",
      "449/449 [==============================] - 4s 9ms/step - loss: 1.0009 - accuracy: 0.6174 - val_loss: 1.1227 - val_accuracy: 0.5782\n",
      "Epoch 10/25\n",
      "449/449 [==============================] - 4s 9ms/step - loss: 0.9704 - accuracy: 0.6351 - val_loss: 1.1223 - val_accuracy: 0.5851\n",
      "Epoch 11/25\n",
      "449/449 [==============================] - 4s 9ms/step - loss: 0.8951 - accuracy: 0.6663 - val_loss: 1.1585 - val_accuracy: 0.5807\n",
      "Epoch 12/25\n",
      "449/449 [==============================] - 4s 9ms/step - loss: 0.8613 - accuracy: 0.6804 - val_loss: 1.1669 - val_accuracy: 0.5851\n",
      "Epoch 13/25\n",
      "449/449 [==============================] - 4s 9ms/step - loss: 0.8100 - accuracy: 0.6997 - val_loss: 1.1617 - val_accuracy: 0.5918\n",
      "Epoch 14/25\n",
      "449/449 [==============================] - 4s 9ms/step - loss: 0.7542 - accuracy: 0.7212 - val_loss: 1.1832 - val_accuracy: 0.5882\n",
      "Epoch 15/25\n",
      "449/449 [==============================] - 4s 9ms/step - loss: 0.7062 - accuracy: 0.7386 - val_loss: 1.2232 - val_accuracy: 0.5952\n",
      "Epoch 16/25\n",
      "449/449 [==============================] - 4s 9ms/step - loss: 0.6594 - accuracy: 0.7586 - val_loss: 1.2556 - val_accuracy: 0.5840\n",
      "Epoch 17/25\n",
      "449/449 [==============================] - 4s 9ms/step - loss: 0.6202 - accuracy: 0.7724 - val_loss: 1.3087 - val_accuracy: 0.5862\n",
      "Epoch 18/25\n",
      "449/449 [==============================] - 4s 9ms/step - loss: 0.5923 - accuracy: 0.7860 - val_loss: 1.3381 - val_accuracy: 0.5943\n",
      "Epoch 19/25\n",
      "449/449 [==============================] - 4s 9ms/step - loss: 0.5430 - accuracy: 0.7995 - val_loss: 1.4096 - val_accuracy: 0.5885\n",
      "Epoch 20/25\n",
      "449/449 [==============================] - 4s 9ms/step - loss: 0.5249 - accuracy: 0.8093 - val_loss: 1.4041 - val_accuracy: 0.5882\n",
      "Epoch 21/25\n",
      "449/449 [==============================] - 4s 9ms/step - loss: 0.4893 - accuracy: 0.8243 - val_loss: 1.4872 - val_accuracy: 0.5988\n",
      "Epoch 22/25\n",
      "449/449 [==============================] - 4s 9ms/step - loss: 0.4713 - accuracy: 0.8299 - val_loss: 1.4368 - val_accuracy: 0.5876\n",
      "Epoch 23/25\n",
      "449/449 [==============================] - 4s 9ms/step - loss: 0.4525 - accuracy: 0.8358 - val_loss: 1.5261 - val_accuracy: 0.5926\n",
      "Epoch 24/25\n",
      "449/449 [==============================] - 4s 9ms/step - loss: 0.4294 - accuracy: 0.8442 - val_loss: 1.6008 - val_accuracy: 0.5871\n",
      "Epoch 25/25\n",
      "449/449 [==============================] - 4s 9ms/step - loss: 0.4199 - accuracy: 0.8484 - val_loss: 1.5885 - val_accuracy: 0.5946\n"
     ]
    }
   ],
   "source": [
    "# print(f\"shape:{X_train.shape}\")\n",
    "##designing the cnn\n",
    "#1st convolution layer\n",
    "\n",
    "epochs = 25\n",
    "\n",
    "model = Sequential()\n",
    "\n",
    "model.add(Conv2D(64, kernel_size=(3, 3), activation='relu', input_shape=(X_train.shape[1:])))\n",
    "#model.add(Conv2D(64,kernel_size= (3, 3), activation='relu'))\n",
    "#model.add(BatchNormalization())\n",
    "model.add(MaxPooling2D(pool_size=(2,2), strides=(2, 2)))\n",
    "model.add(Dropout(0.5))\n",
    "\n",
    "#2nd convolution layer\n",
    "model.add(Conv2D(64, (3, 3), activation='relu'))\n",
    "#model.add(Conv2D(64, (3, 3), activation='relu'))\n",
    "#model.add(BatchNormalization())\n",
    "model.add(MaxPooling2D(pool_size=(2,2), strides=(2, 2)))\n",
    "model.add(Dropout(0.5))\n",
    "\n",
    "#3rd convolution layer\n",
    "model.add(Conv2D(128, (3, 3), activation='relu'))\n",
    "#model.add(Conv2D(128, (3, 3), activation='relu'))\n",
    "#model.add(BatchNormalization())\n",
    "model.add(MaxPooling2D(pool_size=(2,2), strides=(2, 2)))\n",
    "\n",
    "model.add(Flatten())\n",
    "\n",
    "#fully connected neural networks$\n",
    "#model.add(Dense(1024, activation='relu'))\n",
    "#model.add(Dropout(0.2))\n",
    "model.add(Dense(1024, activation='relu'))\n",
    "model.add(Dropout(0.2))\n",
    "\n",
    "model.add(Dense(num_labels, activation='softmax'))\n",
    "\n",
    "# model.summary()\n",
    "\n",
    "#Compliling the model\n",
    "model.compile(loss=categorical_crossentropy,\n",
    "              optimizer=Adam(),\n",
    "              metrics=['accuracy'])\n",
    "\n",
    "#Training the model\n",
    "history = model.fit(X_train, train_y,\n",
    "          batch_size=batch_size,\n",
    "          epochs=epochs,\n",
    "          verbose=1,\n",
    "          validation_data=(X_test, test_y),\n",
    "          shuffle=True)\n",
    "\n",
    "\n",
    "#Saving the  model to  use it later on\n",
    "fer_json = model.to_json()\n",
    "with open(\"gdrive/My Drive/model.json\", \"w\") as json_file:\n",
    "    json_file.write(fer_json)\n",
    "model.save_weights(\"gdrive/My Drive/model.h5\")"
   ]
  },
  {
   "cell_type": "code",
   "execution_count": null,
   "metadata": {
    "colab": {
     "base_uri": "https://localhost:8080/",
     "height": 545
    },
    "id": "zu5486ygw-S6",
    "outputId": "82d7d004-54a1-465b-d5fd-0c5d0fc740bd"
   },
   "outputs": [
    {
     "data": {
      "image/png": "[encoded data removed]",
      "text/plain": [
       "<Figure size 432x288 with 1 Axes>"
      ]
     },
     "metadata": {
      "needs_background": "light",
      "tags": []
     },
     "output_type": "display_data"
    },
    {
     "data": {
      "image/png": "[encoded data removed]",
      "text/plain": [
       "<Figure size 432x288 with 1 Axes>"
      ]
     },
     "metadata": {
      "needs_background": "light",
      "tags": []
     },
     "output_type": "display_data"
    }
   ],
   "source": [
    "acc = history.history['accuracy']\n",
    "val_acc = history.history['val_accuracy']\n",
    "loss = history.history['loss']\n",
    "val_loss = history.history['val_loss']\n",
    "\n",
    "epochs = range(1, len(acc) + 1)\n",
    "\n",
    "plt.plot(epochs, acc, 'bo', label='Training acc')\n",
    "plt.plot(epochs, val_acc, 'b', label='Validation acc')\n",
    "plt.title('Training and validation accuracy')\n",
    "plt.legend()\n",
    "plt.savefig('gdrive/My Drive/reduce_layers_1.png', dpi=100)\n",
    "plt.figure()\n",
    "\n",
    "plt.plot(epochs, loss, 'bo', label='Training loss')\n",
    "plt.plot(epochs, val_loss, 'b', label='Validation loss')\n",
    "plt.title('Training and validation loss')\n",
    "plt.legend()\n",
    "plt.savefig('gdrive/My Drive/reduce_layers_2.png', dpi=100)\n",
    "plt.show()"
   ]
  },
  {
   "cell_type": "code",
   "execution_count": null,
   "metadata": {
    "id": "UTjwvbB7xhY3"
   },
   "outputs": [],
   "source": [
    "#IMFDB Data conversion to CSV file\n",
    "#Convert the images into pixels string with eomtions tag"
   ]
  },
  {
   "cell_type": "code",
   "execution_count": null,
   "metadata": {
    "colab": {
     "base_uri": "https://localhost:8080/"
    },
    "id": "LPw8mhegxmY3",
    "outputId": "08e27411-2d59-4a40-b8e0-6d674ef6c9af"
   },
   "outputs": [
    {
     "name": "stdout",
     "output_type": "stream",
     "text": [
      "Collecting python-resize-image\n",
      "  Downloading https://files.pythonhosted.org/packages/bc/89/008481c95551992e1a77503eba490b75fd17c0a98e33dd4dc39e0b99e5e8/python_resize_image-1.1.19-py2.py3-none-any.whl\n",
      "Requirement already satisfied: requests>=2.19.1 in /usr/local/lib/python3.6/dist-packages (from python-resize-image) (2.23.0)\n",
      "Requirement already satisfied: Pillow>=5.1.0 in /usr/local/lib/python3.6/dist-packages (from python-resize-image) (7.0.0)\n",
      "Requirement already satisfied: certifi>=2017.4.17 in /usr/local/lib/python3.6/dist-packages (from requests>=2.19.1->python-resize-image) (2020.12.5)\n",
      "Requirement already satisfied: urllib3!=1.25.0,!=1.25.1,<1.26,>=1.21.1 in /usr/local/lib/python3.6/dist-packages (from requests>=2.19.1->python-resize-image) (1.24.3)\n",
      "Requirement already satisfied: idna<3,>=2.5 in /usr/local/lib/python3.6/dist-packages (from requests>=2.19.1->python-resize-image) (2.10)\n",
      "Requirement already satisfied: chardet<4,>=3.0.2 in /usr/local/lib/python3.6/dist-packages (from requests>=2.19.1->python-resize-image) (3.0.4)\n",
      "Installing collected packages: python-resize-image\n",
      "Successfully installed python-resize-image-1.1.19\n"
     ]
    }
   ],
   "source": [
    "#To resize and crop the images precisely  \n",
    "!pip install python-resize-image"
   ]
  },
  {
   "cell_type": "code",
   "execution_count": null,
   "metadata": {
    "id": "ogVmtqj7yA98"
   },
   "outputs": [],
   "source": [
    "import sys, os, glob\n",
    "import pandas as pd\n",
    "import numpy as np\n",
    "import pathlib\n",
    "import csv \n",
    "from PIL import Image\n",
    "from resizeimage import resizeimage\n",
    "import random"
   ]
  },
  {
   "cell_type": "code",
   "execution_count": null,
   "metadata": {
    "id": "1i2THxZlyDHV"
   },
   "outputs": [],
   "source": [
    "rootPath = '/content/gdrive/My Drive/'\n",
    "\n",
    "IMFDB_final_path = rootPath + 'IMFDB_final'\n",
    "IMFDB_CSV_path = rootPath + 'IMFDB_CSV'\n",
    "IMFDB_final = pathlib.Path(IMFDB_final_path)"
   ]
  },
  {
   "cell_type": "code",
   "execution_count": null,
   "metadata": {
    "id": "BrdVKg9GyFLY"
   },
   "outputs": [],
   "source": [
    "emotionsNumber = { \"ANGER\":0 , \"DISGUST\":1 , \"FEAR\":2 , \"HAPPINESS\":3 , \"SADNESS\":4 , \"SURPRISE\":5 , \"NEUTRAL\":6  }\n",
    "def getEmotionNumber(emotion):\n",
    "  try:\n",
    "    return emotionsNumber[emotion]\n",
    "  except:\n",
    "    return -1"
   ]
  },
  {
   "cell_type": "code",
   "execution_count": null,
   "metadata": {
    "id": "CHzRQ2ZmyG-w"
   },
   "outputs": [],
   "source": [
    "def fileExits(path):\n",
    "  my_file = pathlib.Path(path)\n",
    "  if my_file.is_file():\n",
    "    return True\n",
    "  else:\n",
    "    return False"
   ]
  },
  {
   "cell_type": "code",
   "execution_count": null,
   "metadata": {
    "id": "_gX91MIuyJWL"
   },
   "outputs": [],
   "source": [
    "def isDir(path):\n",
    "  my_file = pathlib.Path(path)\n",
    "  if my_file.is_dir():\n",
    "    return True\n",
    "  else:\n",
    "    return False"
   ]
  },
  {
   "cell_type": "code",
   "execution_count": null,
   "metadata": {
    "id": "GYTjdi0EyN98"
   },
   "outputs": [],
   "source": [
    "def getFilePath(moviePath,actorName,movieName):\n",
    "  try:\n",
    "    os.chdir(moviePath)\n",
    "    for file in glob.glob(\"*.txt\"):\n",
    "      return file\n",
    "  except:\n",
    "    print(\"Text File Not Found -- Ignored\")\n",
    "    return False"
   ]
  },
  {
   "cell_type": "code",
   "execution_count": null,
   "metadata": {
    "id": "oxMGmisOyPxR"
   },
   "outputs": [],
   "source": [
    "def checkCSVCreated(ActorName):\n",
    "  csvPath = IMFDB_CSV_path + '/' + ActorName + \".csv\"\n",
    "  return fileExits(csvPath)"
   ]
  },
  {
   "cell_type": "code",
   "execution_count": null,
   "metadata": {
    "id": "Tk-vwuPYyRf2"
   },
   "outputs": [],
   "source": [
    "def getEmotionsFromFile(path):\n",
    "  file = open(filePath, 'r') \n",
    "  Lines = file.readlines()\n",
    "  emotions = {}\n",
    "  for line in Lines:\n",
    "    keys = line.split(\"\\t\")\n",
    "    if(len(keys)>11):\n",
    "      emotions[keys[2]] = keys[11]\n",
    "  return emotions"
   ]
  },
  {
   "cell_type": "code",
   "execution_count": null,
   "metadata": {
    "id": "lFwdJplIyTTS"
   },
   "outputs": [],
   "source": [
    "def getResizeImage(path):\n",
    "  try:\n",
    "    fd_img = open(path, 'rb')\n",
    "    img = Image.open(fd_img).convert('LA')\n",
    "    img = resizeimage.resize_cover(img, [48, 48])\n",
    "    fd_img.close()\n",
    "    return img\n",
    "  except:\n",
    "    print(\"Image Very Small -- Ignored\")\n",
    "    return False"
   ]
  },
  {
   "cell_type": "code",
   "execution_count": null,
   "metadata": {
    "id": "FZmuTVzXyU8E"
   },
   "outputs": [],
   "source": [
    "def getRandomTag():\n",
    "  if random.uniform(0, 1) < 0.3 :\n",
    "    return \"PublicTest\"\n",
    "  else :\n",
    "    return \"Training\""
   ]
  },
  {
   "cell_type": "code",
   "execution_count": null,
   "metadata": {
    "id": "Y3fQ7gV0yWe_"
   },
   "outputs": [],
   "source": [
    "def createCSV(dataArray,actorName):\n",
    "  if len(dataArray) == 0:\n",
    "    print(\"Data Missing for **\" + actorName + \"** -- Ignored\")\n",
    "    return\n",
    "  csvPath = IMFDB_CSV_path + '/' + actorName + \".csv\"\n",
    "  data = np.array(dataArray)\n",
    "  dataset = pd.DataFrame({'emotion':data[:,0] , 'pixels': data[:, 1], 'Usage': data[:, 2]})\n",
    "  dataset.to_csv(csvPath, index = False)"
   ]
  },
  {
   "cell_type": "code",
   "execution_count": null,
   "metadata": {
    "id": "GI-bfopCyYCY"
   },
   "outputs": [],
   "source": [
    "for actor in IMFDB_final.glob('*'):\n",
    "  dataArray = []\n",
    "  if checkCSVCreated(actor.name): continue\n",
    "  print(\"start -- \" + actor.name)\n",
    "  for movie in actor.glob('*'):\n",
    "    moviePath = IMFDB_final_path + \"/\" + actor.name + \"/\" + movie.name\n",
    "    if not isDir(moviePath): continue\n",
    "    imagesPath = moviePath + \"/images/\"\n",
    "    filePath = getFilePath(moviePath,actor.name,movie.name)\n",
    "    if not filePath: continue\n",
    "    emotions = getEmotionsFromFile(filePath)\n",
    "    for key in emotions:\n",
    "      emotionNo = getEmotionNumber(emotions[key])\n",
    "      if emotionNo == -1: continue\n",
    "      imagePath = imagesPath + key\n",
    "      print(imagePath)\n",
    "      img = getResizeImage(imagePath)\n",
    "      if not img: continue\n",
    "      imgArrayFull = np.asarray(img).flatten()\n",
    "      imgArray = imgArrayFull[::2]\n",
    "      pixel_list = imgArray.tolist()\n",
    "      pixel_str_list = map(str, pixel_list)\n",
    "      img_str = ' '.join(pixel_str_list)\n",
    "      data = []\n",
    "      data.append(emotionNo)\n",
    "      data.append(img_str)\n",
    "      data.append(\"Training\")\n",
    "      dataArray.append(data)\n",
    "  createCSV(dataArray,actor.name)"
   ]
  },
  {
   "cell_type": "code",
   "execution_count": null,
   "metadata": {
    "id": "zgG_xw-Hydi8"
   },
   "outputs": [],
   "source": [
    "os.chdir(IMFDB_CSV_path)\n",
    "frames = []\n",
    "for file in glob.glob(\"*.csv\"):\n",
    "  filePath = IMFDB_CSV_path + \"/\" + file\n",
    "  df =  pd.read_csv(filePath)\n",
    "  frames.append(df)\n",
    "df = pd.concat(frames)"
   ]
  },
  {
   "cell_type": "code",
   "execution_count": null,
   "metadata": {
    "colab": {
     "base_uri": "https://localhost:8080/"
    },
    "id": "FZwhcce0yelK",
    "outputId": "e8bc48de-0b87-4162-c678-6ce995c67759"
   },
   "outputs": [
    {
     "name": "stdout",
     "output_type": "stream",
     "text": [
      "<class 'pandas.core.frame.DataFrame'>\n",
      "Int64Index: 24596 entries, 0 to 96\n",
      "Data columns (total 3 columns):\n",
      " #   Column   Non-Null Count  Dtype \n",
      "---  ------   --------------  ----- \n",
      " 0   emotion  24596 non-null  int64 \n",
      " 1   pixels   24596 non-null  object\n",
      " 2   Usage    24596 non-null  object\n",
      "dtypes: int64(1), object(2)\n",
      "memory usage: 768.6+ KB\n"
     ]
    }
   ],
   "source": [
    "df.info()"
   ]
  },
  {
   "cell_type": "code",
   "execution_count": null,
   "metadata": {
    "id": "Wy0xcUyoymcO"
   },
   "outputs": [],
   "source": [
    "allFilePath = IMFDB_CSV_path + \"/IMFDB.csv\" \n",
    "df.to_csv(allFilePath, index = False)"
   ]
  },
  {
   "cell_type": "code",
   "execution_count": null,
   "metadata": {
    "id": "QxNfmDhBypVk"
   },
   "outputs": [],
   "source": [
    "data = np.array(dataArray)\n",
    "dataset = pd.DataFrame({'emotion':data[:,0] , 'pixels': data[:, 1], 'Usage': data[:, 2]})\n",
    "dataset.to_csv(r'/content/gdrive/My Drive/IMFDB_1.csv', index = False)\n",
    "#end"
   ]
  },
  {
   "cell_type": "code",
   "execution_count": null,
   "metadata": {
    "id": "Qy6NIUuQyq7H"
   },
   "outputs": [],
   "source": [
    "#Application to select Image and predict emotion\n",
    "#Webcame can also be use to see the emotion live"
   ]
  },
  {
   "cell_type": "code",
   "execution_count": null,
   "metadata": {
    "id": "0IZfAbw3yygY"
   },
   "outputs": [],
   "source": [
    "import tkinter as tk\n",
    "from PIL import ImageTk, Image\n",
    "from tkinter import filedialog\n",
    "import numpy as np\n",
    "import tensorflow\n",
    "from tensorflow.keras.preprocessing.image import img_to_array\n",
    "from keras.models import model_from_json\n",
    "from keras.preprocessing import image\n",
    "import cv2\n",
    "\n",
    "model = model_from_json(open(\"model/model.json\", \"r\").read())\n",
    "model.load_weights('model/model.h5')\n",
    "face_haar_cascade = cv2.CascadeClassifier('model/haarcascade_frontalface_default.xml')\n",
    "cap = cv2.VideoCapture(0)\n",
    "\n",
    "live_tab = False\n",
    "after_id = 0\n",
    "\n",
    "def load_splash():\n",
    "    global img\n",
    "    for img_display in frame.winfo_children():\n",
    "        img_display.destroy()\n",
    "    img = Image.open(\"assets/splash.jpg\")\n",
    "    basewidth = 600\n",
    "    wpercent = (basewidth / float(img.size[0]))\n",
    "    hsize = int((float(img.size[1] * float(wpercent))))\n",
    "    img = img.resize((basewidth, hsize), Image.ANTIALIAS)\n",
    "    img = ImageTk.PhotoImage(img)\n",
    "    panel_image = tk.Label(frame, image=img).pack()\n",
    "\n",
    "def load_img():\n",
    "    global img, img_data\n",
    "    for img_display in frame.winfo_children():\n",
    "        img_display.destroy()\n",
    "    img_data = filedialog.askopenfilename(initialdir=\"/\", title=\"Choose Image\", filetypes=((\"all files\", \"*.*\"), (\"png files\", \"*.png\")))\n",
    "    img = cv2.imread(img_data)\n",
    "    img = emotion(img)\n",
    "    img = image_resize(img)\n",
    "    b,g,r = cv2.split(img)\n",
    "    img = cv2.merge((r,g,b))\n",
    "    im = Image.fromarray(img)\n",
    "    img = ImageTk.PhotoImage(image=im)\n",
    "    file_name = img_data.split('/')\n",
    "    panel = tk.Label(frame, text=str(file_name[len(file_name) -1]).upper()).pack()\n",
    "    panel_image = tk.Label(frame, image=img).pack()\n",
    "\n",
    "def live_img():\n",
    "    global img, img_data,after_id\n",
    "    for img_display in frame.winfo_children():\n",
    "        img_display.destroy()\n",
    "    _, cam_img = cap.read()\n",
    "    img = emotion(cam_img)\n",
    "    b,g,r = cv2.split(img)\n",
    "    img = cv2.merge((r,g,b))\n",
    "    im = Image.fromarray(img)\n",
    "    img = ImageTk.PhotoImage(image=im)\n",
    "    panel = tk.Label(frame, text=\"Live Cam\").pack()\n",
    "    panel_image = tk.Label(frame, image=img).pack()\n",
    "    after_id = frame.after(10, live_img)\n",
    "\n",
    "def live_setup():\n",
    "    global live_tab,after_id;\n",
    "    if live_tab:\n",
    "        load_splash()\n",
    "        live_btn_text.set(\"Live\")\n",
    "        frame.after_cancel(after_id)\n",
    "        live_tab = False\n",
    "    else:\n",
    "        live_btn_text.set(\"Stop\")\n",
    "        live_img()\n",
    "        live_tab = True\n",
    "        \n",
    "    \n",
    "def emotion(img):\n",
    "    gray_img= cv2.cvtColor(img, cv2.COLOR_BGR2GRAY)\n",
    "    faces_detected = face_haar_cascade.detectMultiScale(gray_img, 1.32, 5)\n",
    "    for (x,y,w,h) in faces_detected:\n",
    "        cv2.rectangle(img,(x,y),(x+w,y+h),(255,0,0),thickness=7)\n",
    "        roi_gray=gray_img[y:y+w,x:x+h]#cropping region of interest i.e. face area from  image\n",
    "        roi_gray=cv2.resize(roi_gray,(48,48))\n",
    "        img_pixels = image.img_to_array(roi_gray)\n",
    "        img_pixels = np.expand_dims(img_pixels, axis = 0)\n",
    "        img_pixels /= 255\n",
    "        predictions = model.predict(img_pixels)\n",
    "        max_index = np.argmax(predictions[0])\n",
    "        emotions = ('angry', 'disgust', 'fear', 'happy', 'sad', 'surprise', 'neutral')\n",
    "        predicted_emotion = emotions[max_index]\n",
    "        cv2.putText(img, predicted_emotion, (int(x), int(y)), cv2.FONT_HERSHEY_SIMPLEX, 1, (0,0,255), 2)\n",
    "    resized_img = img\n",
    "    return resized_img\n",
    "\n",
    "def image_resize(im, inter = cv2.INTER_AREA):\n",
    "    h, w, c = im.shape\n",
    "    if w > h:\n",
    "        r = 600 / w\n",
    "    else:\n",
    "        r = 480 / h\n",
    "        \n",
    "    width = int(im.shape[1] * r)\n",
    "    height = int(im.shape[0] * r)\n",
    "    dim = (width, height)\n",
    "    resized = cv2.resize(im, dim)\n",
    "    return resized\n",
    "\n",
    "\n",
    "root = tk.Tk()\n",
    "root.title('EMOTIONS')\n",
    "root.iconbitmap(\"assets/ico.ico\")\n",
    "root.resizable(False, False)\n",
    "\n",
    "canvas = tk.Canvas(root, height=480, width=600, bg='white')\n",
    "canvas.pack()\n",
    "\n",
    "frame = tk.Frame(root, bg='white')\n",
    "frame.place(relwidth=1, relheight=1, relx=0, rely=0)\n",
    "\n",
    "img_btn = tk.Button(root, text='Select Image', padx=35, pady=10, command=load_img)\n",
    "img_btn.pack(side=tk.LEFT)\n",
    "live_btn_text = tk.StringVar()\n",
    "live_btn_text.set(\"Live\")\n",
    "live_btn = tk.Button(root, textvariable=live_btn_text, padx=35, pady=10,command=live_setup)\n",
    "live_btn.pack(side=tk.RIGHT)\n",
    "\n",
    "load_splash()\n",
    "root.mainloop()\n"
   ]
  }
 ],
 "metadata": {
  "accelerator": "GPU",
  "colab": {
   "collapsed_sections": [],
   "name": "SourceCode.ipynb",
   "provenance": []
  },
  "kernelspec": {
   "display_name": "Python 3",
   "language": "python",
   "name": "python3"
  },
  "language_info": {
   "codemirror_mode": {
    "name": "ipython",
    "version": 3
   },
   "file_extension": ".py",
   "mimetype": "text/x-python",
   "name": "python",
   "nbconvert_exporter": "python",
   "pygments_lexer": "ipython3",
   "version": "3.8.3"
  }
 },
 "nbformat": 4,
 "nbformat_minor": 1
}
